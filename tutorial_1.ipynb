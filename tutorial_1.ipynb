{
  "nbformat": 4,
  "nbformat_minor": 0,
  "metadata": {
    "colab": {
      "provenance": []
    },
    "kernelspec": {
      "name": "python3",
      "display_name": "Python 3"
    },
    "language_info": {
      "name": "python"
    }
  },
  "cells": [
    {
      "cell_type": "markdown",
      "source": [],
      "metadata": {
        "id": "dXi23-SelhWI"
      }
    },
    {
      "cell_type": "code",
      "execution_count": 14,
      "metadata": {
        "id": "O3A0j8AJikaf"
      },
      "outputs": [],
      "source": [
        "import pandas as pd\n",
        "import statsmodels.api as sm\n"
      ]
    },
    {
      "cell_type": "code",
      "source": [
        "\n",
        "\n",
        "# Load the dataset\n",
        "file_path = '/content/Advertising.csv'\n",
        "data = pd.read_csv(file_path)\n",
        "\n",
        "# Inspect the first few rows to check column names\n",
        "data.columns = data.columns.str.strip()  # Remove any whitespace\n",
        "\n",
        "# Define the predictor variables (TV, Radio, Newspaper) and target variable (Sales)\n",
        "X = data[['TV', 'radio', 'newspaper']]\n",
        "y = data['sales']\n",
        "\n",
        "# Add a constant term for the intercept\n",
        "X = sm.add_constant(X)\n",
        "\n",
        "# Fit the multiple linear regression model\n",
        "model = sm.OLS(y, X).fit()\n",
        "\n",
        "# Get model summary\n",
        "summary = model.summary()\n",
        "\n",
        "# Calculate Residual Standard Error (RSE)\n",
        "residuals = model.resid\n",
        "RSS = sum(residuals ** 2)\n",
        "n = len(y)\n",
        "p = X.shape[1] - 1  # Number of predictors\n",
        "RSE = (RSS / (n - p - 1)) ** 0.5\n",
        "\n",
        "# Extract R-squared value\n",
        "r_squared = model.rsquared\n",
        "\n",
        "print(summary)\n",
        "print(f\"\\nResidual Standard Error (RSE): {RSE:.4f}\")\n",
        "print(f\"R-squared: {r_squared:.4f}\")\n"
      ],
      "metadata": {
        "colab": {
          "base_uri": "https://localhost:8080/"
        },
        "id": "T_nIq2Iwmfic",
        "outputId": "db6ce74e-953d-4390-d19f-97f47649ddcb"
      },
      "execution_count": 30,
      "outputs": [
        {
          "output_type": "stream",
          "name": "stdout",
          "text": [
            "                            OLS Regression Results                            \n",
            "==============================================================================\n",
            "Dep. Variable:                  sales   R-squared:                       0.897\n",
            "Model:                            OLS   Adj. R-squared:                  0.896\n",
            "Method:                 Least Squares   F-statistic:                     570.3\n",
            "Date:                Tue, 11 Mar 2025   Prob (F-statistic):           1.58e-96\n",
            "Time:                        09:52:53   Log-Likelihood:                -386.18\n",
            "No. Observations:                 200   AIC:                             780.4\n",
            "Df Residuals:                     196   BIC:                             793.6\n",
            "Df Model:                           3                                         \n",
            "Covariance Type:            nonrobust                                         \n",
            "==============================================================================\n",
            "                 coef    std err          t      P>|t|      [0.025      0.975]\n",
            "------------------------------------------------------------------------------\n",
            "const          2.9389      0.312      9.422      0.000       2.324       3.554\n",
            "TV             0.0458      0.001     32.809      0.000       0.043       0.049\n",
            "radio          0.1885      0.009     21.893      0.000       0.172       0.206\n",
            "newspaper     -0.0010      0.006     -0.177      0.860      -0.013       0.011\n",
            "==============================================================================\n",
            "Omnibus:                       60.414   Durbin-Watson:                   2.084\n",
            "Prob(Omnibus):                  0.000   Jarque-Bera (JB):              151.241\n",
            "Skew:                          -1.327   Prob(JB):                     1.44e-33\n",
            "Kurtosis:                       6.332   Cond. No.                         454.\n",
            "==============================================================================\n",
            "\n",
            "Notes:\n",
            "[1] Standard Errors assume that the covariance matrix of the errors is correctly specified.\n",
            "\n",
            "Residual Standard Error (RSE): 1.6855\n",
            "R-squared: 0.8972\n"
          ]
        }
      ]
    },
    {
      "cell_type": "markdown",
      "source": [],
      "metadata": {
        "id": "wSG1ss6ri5-B"
      }
    }
  ]
}
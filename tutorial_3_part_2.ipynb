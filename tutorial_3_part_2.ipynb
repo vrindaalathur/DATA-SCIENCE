{
  "nbformat": 4,
  "nbformat_minor": 0,
  "metadata": {
    "colab": {
      "provenance": []
    },
    "kernelspec": {
      "name": "python3",
      "display_name": "Python 3"
    },
    "language_info": {
      "name": "python"
    }
  },
  "cells": [
    {
      "cell_type": "markdown",
      "source": [],
      "metadata": {
        "id": "wSG1ss6ri5-B"
      }
    },
    {
      "cell_type": "code",
      "source": [
        "import numpy as np\n",
        "\n",
        "# Define the input feature matrix (each row is a sample, columns are features)\n",
        "feature_matrix = np.array([[2, 3], [3, 5], [5, 7], [7, 9]])  # 4 samples, 2 features\n",
        "\n",
        "# Define the corresponding class labels (0 and 1)\n",
        "class_labels = np.array([0, 0, 1, 1])  # Class labels for classification\n",
        "\n",
        "# Separate the data points based on class labels\n",
        "class_0_samples = feature_matrix[class_labels == 0]  # Extract samples belonging to class 0\n",
        "class_1_samples = feature_matrix[class_labels == 1]  # Extract samples belonging to class 1\n",
        "\n",
        "# Compute the mean vectors for each class (column-wise mean)\n",
        "mean_vector_0 = np.mean(class_0_samples, axis=0)  # Mean of class 0\n",
        "mean_vector_1 = np.mean(class_1_samples, axis=0)  # Mean of class 1\n",
        "\n",
        "# Compute the total mean (not used in this version but useful for reference)\n",
        "overall_mean_vector = np.mean(feature_matrix, axis=0)  # Overall mean of all samples\n",
        "\n",
        "# Compute the within-class scatter matrix (S_W)\n",
        "# S_W captures how much the data points of each class vary from their mean\n",
        "scatter_within_class = (\n",
        "    np.dot((class_0_samples - mean_vector_0).T, (class_0_samples - mean_vector_0)) +\n",
        "    np.dot((class_1_samples - mean_vector_1).T, (class_1_samples - mean_vector_1))\n",
        ")\n",
        "\n",
        "# Compute the between-class scatter matrix (S_B)\n",
        "# S_B captures how much the class means differ from each other\n",
        "mean_difference_vector = (mean_vector_0 - mean_vector_1).reshape(-1, 1)  # Column vector of mean difference\n",
        "scatter_between_class = np.dot(mean_difference_vector, mean_difference_vector.T)  # Outer product to form the matrix\n",
        "\n",
        "# Solve the eigenvalue problem for inv(S_W) * S_B\n",
        "# Finding the eigenvectors and eigenvalues\n",
        "\n",
        "eigenvalues, eigenvectors = np.linalg.eig(np.linalg.inv(scatter_within_class).dot(scatter_between_class))\n",
        "\n",
        "# Choose the eigenvector corresponding to the largest eigenvalue\n",
        "optimal_lda_direction = eigenvectors[:, np.argmax(eigenvalues)]  # This is the optimal projection direction\n",
        "\n",
        "# Project the original data points onto the LDA direction\n",
        "transformed_data_manual = np.dot(feature_matrix, optimal_lda_direction)\n",
        "\n",
        "# Print the projected data points\n",
        "print(\"LDA result using manual matrix multiplication:\\n\", transformed_data_manual)\n",
        "\n"
      ],
      "metadata": {
        "colab": {
          "base_uri": "https://localhost:8080/"
        },
        "id": "xuJbw2wSCoXu",
        "outputId": "cc85b3b9-94e1-4c5e-93bc-3329fb01cbb3"
      },
      "execution_count": 1,
      "outputs": [
        {
          "output_type": "stream",
          "name": "stdout",
          "text": [
            "LDA result using library method:\n",
            " [[-1.8973666 ]\n",
            " [-1.26491106]\n",
            " [ 0.63245553]\n",
            " [ 2.52982213]]\n"
          ]
        }
      ]
    }
  ]
}
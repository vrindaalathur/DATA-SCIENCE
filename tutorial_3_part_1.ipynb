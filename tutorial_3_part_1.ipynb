{
  "nbformat": 4,
  "nbformat_minor": 0,
  "metadata": {
    "colab": {
      "provenance": []
    },
    "kernelspec": {
      "name": "python3",
      "display_name": "Python 3"
    },
    "language_info": {
      "name": "python"
    }
  },
  "cells": [
    {
      "cell_type": "markdown",
      "source": [],
      "metadata": {
        "id": "wSG1ss6ri5-B"
      }
    },
    {
      "cell_type": "code",
      "source": [
        "import numpy as np\n",
        "from sklearn.discriminant_analysis import LinearDiscriminantAnalysis\n",
        "\n",
        "# Define the input feature matrix (each row is a sample, and columns are features)\n",
        "feature_matrix = np.array([[2, 3], [3, 5], [5, 7], [7, 9]])  # 2D points\n",
        "\n",
        "# Define the corresponding class labels (0 and 1)\n",
        "class_labels = np.array([0, 0, 1, 1])\n",
        "\n",
        "# Create an LDA model with 1 component for dimensionality reduction\n",
        "lda_model = LinearDiscriminantAnalysis(n_components=1)\n",
        "\n",
        "# Fit the LDA model using the input data and transform it onto the new axis\n",
        "transformed_data = lda_model.fit_transform(feature_matrix, class_labels)\n",
        "\n",
        "# Print the transformed data points in the reduced dimension\n",
        "print(\"LDA result using library method:\\n\", transformed_data)\n"
      ],
      "metadata": {
        "colab": {
          "base_uri": "https://localhost:8080/"
        },
        "id": "xuJbw2wSCoXu",
        "outputId": "cc85b3b9-94e1-4c5e-93bc-3329fb01cbb3"
      },
      "execution_count": 1,
      "outputs": [
        {
          "output_type": "stream",
          "name": "stdout",
          "text": [
            "LDA result using library method:\n",
            " [[-1.8973666 ]\n",
            " [-1.26491106]\n",
            " [ 0.63245553]\n",
            " [ 2.52982213]]\n"
          ]
        }
      ]
    }
  ]
}